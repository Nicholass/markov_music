{
 "metadata": {
  "name": "",
  "signature": "sha256:a64e0e3788416d2ebb673746f8c79d4a99bb62f529504d0338a4170bcf03487c"
 },
 "nbformat": 3,
 "nbformat_minor": 0,
 "worksheets": [
  {
   "cells": [
    {
     "cell_type": "code",
     "collapsed": false,
     "input": [
      "%matplotlib inline\n",
      "%load_ext music21.ipython21\n",
      "\n",
      "from music21 import corpus\n",
      "#s = corpus.parse('bach/bwv846.6.xml')\n",
      "a = corpus.search('bwv846')\n",
      "s = a[0].parse()"
     ],
     "language": "python",
     "metadata": {},
     "outputs": [],
     "prompt_number": 9
    },
    {
     "cell_type": "code",
     "collapsed": false,
     "input": [
      "len(s)"
     ],
     "language": "python",
     "metadata": {},
     "outputs": [
      {
       "metadata": {},
       "output_type": "pyout",
       "prompt_number": 4,
       "text": [
        "8"
       ]
      }
     ],
     "prompt_number": 4
    },
    {
     "cell_type": "code",
     "collapsed": false,
     "input": [
      "#notes = [{thisStep.pitch.nameWithOctave: thisStep.duration.fullName} if thisStep.isNote else ([{Note.pitch.nameWithOctave: Note.duration.fullName} for Note in thisStep] if thisStep.isChord else {}) for thisStep in corpus.parse('bach/bwv846').parts[0].recurse().notes]\n",
      "notes = [thisStep.fullName.replace(\" \", \"_\") if thisStep.isNote else (\" \".join([Note.fullName.replace(\" \", \"_\") for Note in thisStep]) if thisStep.isChord else \" \") for thisStep in corpus.parse('bach/bwv846').parts[0].recurse().notes]\n"
     ],
     "language": "python",
     "metadata": {},
     "outputs": [],
     "prompt_number": 135
    },
    {
     "cell_type": "code",
     "collapsed": false,
     "input": [
      "def parseNote(str):\n",
      "    n, p, d = re.findall(re.compile(\"(.*)_in_octave_(\\d+)_(\\d+\\w+)_Note\"), str)[0]\n",
      "    N = note.Note(n.replace(\"-sharp\", \"#\") + p)\n",
      "    N._setDuration(duration.Duration(d))\n",
      "    \n",
      "    return N"
     ],
     "language": "python",
     "metadata": {},
     "outputs": [],
     "prompt_number": 161
    },
    {
     "cell_type": "code",
     "collapsed": false,
     "input": [
      "from pymarkovchain import MarkovChain\n",
      "from music21 import note, stream, duration\n",
      "import re\n",
      "\n",
      "\n",
      "\n",
      "mc = MarkovChain()\n",
      "notes.pop()\n",
      "\n",
      "mc.generateDatabase(\" \".join(notes))\n",
      "\n",
      "bach = mc.generateString()"
     ],
     "language": "python",
     "metadata": {},
     "outputs": [
      {
       "output_type": "stream",
       "stream": "stderr",
       "text": [
        "WARNING:root:Database file corrupt or not found, using empty database\n"
       ]
      }
     ],
     "prompt_number": 136
    },
    {
     "cell_type": "code",
     "collapsed": false,
     "input": [
      "\n",
      "stream1 = stream.Stream()\n",
      "[stream1.append(parseNote(elem)) for elem in bach.split(\" \")]\n",
      "stream1.show()"
     ],
     "language": "python",
     "metadata": {},
     "outputs": [
      {
       "metadata": {},
       "output_type": "pyout",
       "png": "[encoded data removed]",
       "prompt_number": 179,
       "text": [
        "<music21.ipython21.objects.IPythonPNGObject at 0x7fbded6f8fd0>"
       ]
      }
     ],
     "prompt_number": 179
    }
   ],
   "metadata": {}
  }
 ]
}